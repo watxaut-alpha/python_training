{
  "nbformat": 4,
  "nbformat_minor": 0,
  "metadata": {
    "colab": {
      "name": "python_basics_cheat_sheet.ipynb",
      "provenance": [],
      "collapsed_sections": [],
      "toc_visible": true
    },
    "kernelspec": {
      "name": "python3",
      "display_name": "Python 3"
    }
  },
  "cells": [
    {
      "cell_type": "markdown",
      "metadata": {
        "id": "ZAUcqy8zBz6H",
        "colab_type": "text"
      },
      "source": [
        "# Python CheatSheet"
      ]
    },
    {
      "cell_type": "markdown",
      "metadata": {
        "id": "9l9C29ipB4kJ",
        "colab_type": "text"
      },
      "source": [
        "## Variables"
      ]
    },
    {
      "cell_type": "markdown",
      "metadata": {
        "id": "jd-ozFzAB7uD",
        "colab_type": "text"
      },
      "source": [
        "### Immutable Variables"
      ]
    },
    {
      "cell_type": "code",
      "metadata": {
        "id": "sBP6ayy9Bx8G",
        "colab_type": "code",
        "colab": {}
      },
      "source": [
        "# basics\n",
        "int_var = 3\n",
        "float_var = 3.141592\n",
        "str_var = \"Hello world\"  # double (\") or simple quotes (')\n",
        "boolean = True  # or False\n",
        "\n",
        "# not so basics\n",
        "tuple_var = (1, 2, 3, 3, 3)  # like a list but immutable"
      ],
      "execution_count": 0,
      "outputs": []
    },
    {
      "cell_type": "markdown",
      "metadata": {
        "id": "lp7AjWd9By0C",
        "colab_type": "text"
      },
      "source": [
        "### Mutable variables"
      ]
    },
    {
      "cell_type": "code",
      "metadata": {
        "id": "9Nf2IVRIDBlU",
        "colab_type": "code",
        "colab": {}
      },
      "source": [
        "list_var = [1, 1, 2, 3, 5]  # can store any type and allows mixed types in the same list\n",
        "set_var = {1, 2, 2, 3}  # like a list, but only stores unique values -> {1, 2, 3}\n",
        "dictionary_var = {\"hola\": \"hello\", \"mundo\": \"world\", 2:\"!\"}  # pairs of Key:Value"
      ],
      "execution_count": 0,
      "outputs": []
    },
    {
      "cell_type": "markdown",
      "metadata": {
        "id": "dWd3Tk9dENo4",
        "colab_type": "text"
      },
      "source": [
        "#### List Important methods\n",
        "(Complete method list [here](https://docs.python.org/3/tutorial/datastructures.html#more-on-lists))"
      ]
    },
    {
      "cell_type": "code",
      "metadata": {
        "id": "jZuU-tn-Dxpr",
        "colab_type": "code",
        "colab": {}
      },
      "source": [
        "# add element to last position (IN PLACE)\n",
        "list_var.append(4)  # [1, 1, 2, 3, 5, 4]\n",
        "\n",
        "# add element at 'x' position\n",
        "list_var.insert(0, \"new element\")  # [\"new element\", 1, 1, 2, 3, 5, 4]\n",
        "\n",
        "# remove element from list (IN PLACE)\n",
        "list_var.remove(\"new element\")  # [1, 1, 2, 3, 5, 4]\n",
        "\n",
        "# remove element and return it (by default pops the last item if no x is specified inside pop(x))\n",
        "popped_el = list_var.pop()  # popped element will be '4', list_var = [1, 1, 2, 3, 5]\n",
        "\n",
        "# reverse list (IN PLACE)\n",
        "list_var.reverse()  # [5, 3, 2, 1, 1]\n",
        "\n",
        "# get the index of the first element found inside of the list that matches the given parameter\n",
        "list_var.index(1)\n",
        "\n",
        "# sort list (IN PLACE). The list must have the same type (all string or all number)\n",
        "list_var.sort()  # [1, 1, 2, 3, 5]\n",
        "\n",
        "# count ocurrences of 'x' inside of the list\n",
        "count_1 = list_var.count(1)  # counts the number of '1' and returns 2, as it found 2 occurrences"
      ],
      "execution_count": 0,
      "outputs": []
    },
    {
      "cell_type": "markdown",
      "metadata": {
        "id": "eCC97_hXHSN0",
        "colab_type": "text"
      },
      "source": [
        "#### Dictionary Important methods\n",
        "(Complete method list [here](https://docs.python.org/3/library/stdtypes.html#typesmapping))"
      ]
    },
    {
      "cell_type": "code",
      "metadata": {
        "id": "Y_-4Nf8BEdsJ",
        "colab_type": "code",
        "outputId": "f416fd3a-0656-40ad-facc-74e042c08625",
        "colab": {
          "base_uri": "https://localhost:8080/",
          "height": 34
        }
      },
      "source": [
        "test_dict = {}  # init empty dict\n",
        "\n",
        "# add element to dict\n",
        "test_dict[\"key\"] = \"value\"\n",
        "test_dict[\"another key\"] = \"this is a value\"\n",
        "\n",
        "# get the list of keys of a dict\n",
        "keys_list = list(test_dict.keys())\n",
        "\n",
        "# get the list of values of a dict\n",
        "values_list = list(test_dict.values())\n",
        "\n",
        "# get a list of tuples (key, value) from a dict\n",
        "items_list = list(test_dict.items())\n",
        "print(\"Items list: \", items_list)"
      ],
      "execution_count": 0,
      "outputs": [
        {
          "output_type": "stream",
          "text": [
            "Items list:  [('key', 'value'), ('another key', 'this is a value')]\n"
          ],
          "name": "stdout"
        }
      ]
    },
    {
      "cell_type": "markdown",
      "metadata": {
        "id": "wtF9l9fEJoSo",
        "colab_type": "text"
      },
      "source": [
        "## Conditionals"
      ]
    },
    {
      "cell_type": "code",
      "metadata": {
        "id": "C1qqCVTZIw8J",
        "colab_type": "code",
        "outputId": "7c4bbb68-b033-44a5-b7aa-78cac61983de",
        "colab": {
          "base_uri": "https://localhost:8080/",
          "height": 51
        }
      },
      "source": [
        "some_true_condition = True\n",
        "if some_true_condition == True:  # if condition is True, it will print\n",
        "    print(\"Hey this is True\")\n",
        "\n",
        "if not some_true_condition:  # the use of 'not': it checks for the condition to be False\n",
        "    print(\"This won't be printed\")\n",
        "\n",
        "if 2 >= 5:  # another condition that won't be printed\n",
        "    print(\"This won't be printed\")\n",
        "\n",
        "# if elif else structure\n",
        "if 2 > 1 and 3 not in [1, 2, 6]:  # note the use of 'and'\n",
        "    print(\"Both conditions are true so this gets printed\")\n",
        "elif 5 > 3:  # this is also true, but the first conditional is met so it won't print\n",
        "    print(\"This won't be printed\")\n",
        "else:  # none of the other conditionals are met\n",
        "    print(\"All the other conditionals are False\")"
      ],
      "execution_count": 0,
      "outputs": [
        {
          "output_type": "stream",
          "text": [
            "Hey this is True\n",
            "Both conditions are true so this gets printed\n"
          ],
          "name": "stdout"
        }
      ]
    },
    {
      "cell_type": "markdown",
      "metadata": {
        "id": "GgWDRDpVLaOE",
        "colab_type": "text"
      },
      "source": [
        "## Loops"
      ]
    },
    {
      "cell_type": "markdown",
      "metadata": {
        "id": "76zhQrO_LdxP",
        "colab_type": "text"
      },
      "source": [
        "### For loop"
      ]
    },
    {
      "cell_type": "code",
      "metadata": {
        "id": "04TobfLmKbLx",
        "colab_type": "code",
        "outputId": "6ff12f95-e350-4cba-c0f2-f027d988eeda",
        "colab": {
          "base_uri": "https://localhost:8080/",
          "height": 153
        }
      },
      "source": [
        "list_loop = [9, 8, 4]\n",
        "\n",
        "for item in list_loop:  # loops through each item in the list\n",
        "    print(item)\n",
        "\n",
        "for i in range(5):  # range function creates a list of x items ascending [0, 1, 2, 3, 4]\n",
        "    print(\"number:\", i)"
      ],
      "execution_count": 0,
      "outputs": [
        {
          "output_type": "stream",
          "text": [
            "9\n",
            "8\n",
            "4\n",
            "number: 0\n",
            "number: 1\n",
            "number: 2\n",
            "number: 3\n",
            "number: 4\n"
          ],
          "name": "stdout"
        }
      ]
    },
    {
      "cell_type": "markdown",
      "metadata": {
        "id": "tidxwOugL_YC",
        "colab_type": "text"
      },
      "source": [
        "### While loop"
      ]
    },
    {
      "cell_type": "code",
      "metadata": {
        "id": "zCzBS5R3MAuH",
        "colab_type": "code",
        "outputId": "acc03fa9-b461-4121-a46c-6065552909a1",
        "colab": {
          "base_uri": "https://localhost:8080/",
          "height": 102
        }
      },
      "source": [
        "counter = 0\n",
        "\n",
        "while counter < 5:\n",
        "    # do something\n",
        "    print(f\"Doing something {counter + 1} times\")\n",
        "    counter += 1  # important to add 1 to counter, if not you will have a infinite loop"
      ],
      "execution_count": 0,
      "outputs": [
        {
          "output_type": "stream",
          "text": [
            "Doing something 1 times\n",
            "Doing something 2 times\n",
            "Doing something 3 times\n",
            "Doing something 4 times\n",
            "Doing something 5 times\n"
          ],
          "name": "stdout"
        }
      ]
    },
    {
      "cell_type": "markdown",
      "metadata": {
        "id": "Av-QlGRMYHY_",
        "colab_type": "text"
      },
      "source": [
        "## Functions"
      ]
    },
    {
      "cell_type": "code",
      "metadata": {
        "id": "6yq7JZmyYI9J",
        "colab_type": "code",
        "colab": {
          "base_uri": "https://localhost:8080/",
          "height": 34
        },
        "outputId": "c1639de0-e1bd-47bb-88b8-9017521adad3"
      },
      "source": [
        "# define function first\n",
        "def new_function(param1, param2):\n",
        "    sum_params = param1 + param2\n",
        "    return sum_params\n",
        "\n",
        "# call function\n",
        "value1 = new_function(1, 3)\n",
        "value2 = new_function(100, 444)\n",
        "print(value1, value2)"
      ],
      "execution_count": 27,
      "outputs": [
        {
          "output_type": "stream",
          "text": [
            "4 544\n"
          ],
          "name": "stdout"
        }
      ]
    }
  ]
}