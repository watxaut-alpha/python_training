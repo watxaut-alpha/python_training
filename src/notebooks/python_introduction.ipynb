{
  "nbformat": 4,
  "nbformat_minor": 0,
  "metadata": {
    "colab": {
      "name": "python_introduction.ipynb",
      "provenance": [],
      "collapsed_sections": [],
      "toc_visible": true
    },
    "kernelspec": {
      "name": "python3",
      "display_name": "Python 3"
    }
  },
  "cells": [
    {
      "cell_type": "markdown",
      "metadata": {
        "id": "yz25pucPA09h",
        "colab_type": "text"
      },
      "source": [
        "# Python Tutorial"
      ]
    },
    {
      "cell_type": "markdown",
      "metadata": {
        "id": "fHkRxB6uBays",
        "colab_type": "text"
      },
      "source": [
        "## Inmutable Variables\n",
        "There are some types of variables in python that cannot be modified after their creation, they are called immutable variables, like the ones below:"
      ]
    },
    {
      "cell_type": "code",
      "metadata": {
        "id": "-xc0nUuKAuEZ",
        "colab_type": "code",
        "colab": {}
      },
      "source": [
        "# ----> Numbers\n",
        "integer_num = 4\n",
        "float_num = 4.5\n",
        "complex_num = 4j\n",
        "\n",
        "# ----> Strings\n",
        "string_sentence = \"Hey I am immutable\"\n",
        "string_with_simple_quotes = 'I am immutable and I am still a string'\n",
        "string_text = \"\"\"\n",
        "Roses are red,\n",
        "violets are blue,\n",
        "this is also a string,\n",
        "fantastic.\n",
        "\"\"\"\n",
        "\n",
        "# Booleans: True or False\n",
        "condition_a = True\n",
        "condition_b = 2 < 1\n",
        "\n",
        "# Tuple:\n",
        "tuple_numbers = (45, 6j, 7, 8, 9.567, 0, 5, 300_789_431)"
      ],
      "execution_count": 0,
      "outputs": []
    },
    {
      "cell_type": "markdown",
      "metadata": {
        "id": "pC2xlqUqAyP6",
        "colab_type": "text"
      },
      "source": [
        "## Conditionals\n",
        "The conditionals in Python are done with the keywords 'if', 'elif' and 'else' and conditions as booleans:"
      ]
    },
    {
      "cell_type": "code",
      "metadata": {
        "id": "E4Aq8igeBmp6",
        "colab_type": "code",
        "outputId": "71f651ff-af60-40ee-f7b8-ef7100538872",
        "colab": {
          "base_uri": "https://localhost:8080/",
          "height": 51
        }
      },
      "source": [
        "# here we have one boolean\n",
        "some_true_condition = True\n",
        "if some_true_condition == True:  # if the boolean is True, it will print, if not, it won't do anything\n",
        "    print(\"Hey this is True\")\n",
        "\n",
        "if some_true_condition:  # This is the same, but more Pythonic\n",
        "    print(\"Hey this still is True\")\n",
        "\n",
        "if not some_true_condition:  # this will not get printed, as it checks for the condition to be False\n",
        "    print(\"I will not get any attention :(\")"
      ],
      "execution_count": 0,
      "outputs": [
        {
          "output_type": "stream",
          "text": [
            "Hey this is True\n",
            "Hey this still is True\n"
          ],
          "name": "stdout"
        }
      ]
    },
    {
      "cell_type": "markdown",
      "metadata": {
        "id": "U9t9CW_mCQwH",
        "colab_type": "text"
      },
      "source": [
        "With more than one condition and the condition inside the conditional"
      ]
    },
    {
      "cell_type": "code",
      "metadata": {
        "id": "qmGFt_VZCHvc",
        "colab_type": "code",
        "outputId": "8bbd3e02-c5f8-472e-d74e-296df68bb579",
        "colab": {
          "base_uri": "https://localhost:8080/",
          "height": 34
        }
      },
      "source": [
        "num = 3\n",
        "if num < 3:\n",
        "    print(\"The number is less than 3\")\n",
        "elif num == 3:\n",
        "    print(\"It's equal!\")\n",
        "else:\n",
        "    print(\"Nah, it's greater than 3\")"
      ],
      "execution_count": 0,
      "outputs": [
        {
          "output_type": "stream",
          "text": [
            "It's equal!\n"
          ],
          "name": "stdout"
        }
      ]
    },
    {
      "cell_type": "markdown",
      "metadata": {
        "id": "bJ8xEuRrC6eL",
        "colab_type": "text"
      },
      "source": [
        "With more than one condition and strings used in conditions. Operators \"and\", \"or\" and \"not\""
      ]
    },
    {
      "cell_type": "code",
      "metadata": {
        "id": "NihhJphpCuyj",
        "colab_type": "code",
        "outputId": "943330f9-01c6-48bd-d86e-358ee57d4ecc",
        "colab": {
          "base_uri": "https://localhost:8080/",
          "height": 34
        }
      },
      "source": [
        "s_sentence = \"Hello foo bar world python :D\"\n",
        "if \"foo\" in s_sentence and \"BAR\" in s_sentence:  # checks BOTH conditions to be true, note it's case sensitive\n",
        "    print(\"Hey ho!\")\n",
        "elif \"foo\" in s_sentence and \"bar\" in s_sentence:     # will enter here, print and skip all other conditions because of the if-elif-else structure\n",
        "    print(\"So there is foo and bar in the sentence\")\n",
        "elif \"not\" in s_sentence or \"and\" in s_sentence:  # checks ONE condition to be true (neither of them are)\n",
        "    print(\"<--Input something silly here-->\")\n",
        "elif \"Django\" not in s_sentence:  # This is true, but it will not enter here as the first conditional matches\n",
        "    print(\"I'm out of test sentences\")\n",
        "else:  # if no case is matched\n",
        "    print(\"I am really out of test sentences and this is the else statement\")"
      ],
      "execution_count": 0,
      "outputs": [
        {
          "output_type": "stream",
          "text": [
            "So there is foo and bar in the sentence\n"
          ],
          "name": "stdout"
        }
      ]
    },
    {
      "cell_type": "markdown",
      "metadata": {
        "id": "-3YJ6ObSD3Fd",
        "colab_type": "text"
      },
      "source": [
        "## Loops\n",
        "There are 2 type of loops in python: The For loop and the not used one (I'm joking, it's the While loop). They are used to loop through iterable objects (like lists, strings, tuples, sets and dictionaries) and/or create infinite loops, depending on the case might be useful (for example a bot that is waiting for instructions)."
      ]
    },
    {
      "cell_type": "markdown",
      "metadata": {
        "id": "gbqcIuwXEECB",
        "colab_type": "text"
      },
      "source": [
        "### For loop"
      ]
    },
    {
      "cell_type": "code",
      "metadata": {
        "id": "AuEXMmmjDtRL",
        "colab_type": "code",
        "outputId": "982b7f1b-a330-4a2d-ae7f-08d28a29cc0c",
        "colab": {
          "base_uri": "https://localhost:8080/",
          "height": 102
        }
      },
      "source": [
        "for i in range(5):  # range creates a list of numbers -> [0, 1, 2, 3, 4]\n",
        "    print(i,)"
      ],
      "execution_count": 0,
      "outputs": [
        {
          "output_type": "stream",
          "text": [
            "0\n",
            "1\n",
            "2\n",
            "3\n",
            "4\n"
          ],
          "name": "stdout"
        }
      ]
    },
    {
      "cell_type": "markdown",
      "metadata": {
        "id": "FhXchbdkEO-_",
        "colab_type": "text"
      },
      "source": [
        "*IMPORTANT!* Notice how the list goes from 0->4, this is because Python indexes start ALWAYS at 0, so a range list (we will see them later) with 5 positions will start at 0 and end in 4.\n",
        "\n",
        "The for loop iterates over an object and at each iteration the counter (\"i\" in this case) will have one value at a time, first 0, then 1, then 2... until the object has no more items inside and then python will exit the for loop."
      ]
    },
    {
      "cell_type": "code",
      "metadata": {
        "id": "J7jqxLnwEGq6",
        "colab_type": "code",
        "outputId": "1770fdc4-7a60-48d9-f0c7-233781d10e57",
        "colab": {
          "base_uri": "https://localhost:8080/",
          "height": 85
        }
      },
      "source": [
        "l_objects = [\"hey\", \"ho\", \"let's go\"]\n",
        "for obj in l_objects:  # will loop through all the objects in the list\n",
        "    print(obj)\n",
        "print(\"I'm outside already. Take care of indentations in python!\")  # this is outside the for loop"
      ],
      "execution_count": 0,
      "outputs": [
        {
          "output_type": "stream",
          "text": [
            "hey\n",
            "ho\n",
            "let's go\n",
            "I'm outside already. Take care of indentations in python!\n"
          ],
          "name": "stdout"
        }
      ]
    },
    {
      "cell_type": "markdown",
      "metadata": {
        "id": "I8rG2UPkGBQK",
        "colab_type": "text"
      },
      "source": [
        "The same in this case, in each iteration, s will be \"hey\", then s = \"ho\" and then s = \"let's go\" and it will exit the loop and continue with the code.\n",
        "\n",
        "**NOTE** Python uses indentation to know where For loops, While loops, If conditionals are ended!"
      ]
    },
    {
      "cell_type": "markdown",
      "metadata": {
        "id": "0Fyow6bVGXcs",
        "colab_type": "text"
      },
      "source": [
        "### The While loop - The forgotten one\n",
        "The While loop comes from the devil itself, so watch out. You can end up in an infinite loop easily. Although in some cases an infinite loop might come in handy.\n",
        "\n",
        "Both of the following loops will do the same as in the For loops above:"
      ]
    },
    {
      "cell_type": "code",
      "metadata": {
        "id": "k73Ou32gEpIq",
        "colab_type": "code",
        "outputId": "77a0f7f8-3a78-4af9-95aa-4fe2deb23e2f",
        "colab": {
          "base_uri": "https://localhost:8080/",
          "height": 102
        }
      },
      "source": [
        "i = 0\n",
        "while i < 5:  # if you mess with this line -> boom, infinite loop\n",
        "    print(i)\n",
        "    i = i + 1  # if you don't include this line -> boom, infinite loop"
      ],
      "execution_count": 0,
      "outputs": [
        {
          "output_type": "stream",
          "text": [
            "0\n",
            "1\n",
            "2\n",
            "3\n",
            "4\n"
          ],
          "name": "stdout"
        }
      ]
    },
    {
      "cell_type": "code",
      "metadata": {
        "id": "TAWAnucRGg3q",
        "colab_type": "code",
        "outputId": "920ac96b-fbe1-4447-d40a-6424ad9f67d5",
        "colab": {
          "base_uri": "https://localhost:8080/",
          "height": 68
        }
      },
      "source": [
        "# let's create the same loop as in the For loop to iterate through a list of strings but with While\n",
        "i = 0\n",
        "list_strings = [\"hey\", \"ho\", \"let's go\"]\n",
        "while i < len(list_strings):  # len gives you the lenght of an object (in this case a list)\n",
        "    print(list_strings[i])\n",
        "    i = i + 1\n",
        "\n",
        "# it's not like for is better than while loop, there will be times where you will be forced to use the while loop\n"
      ],
      "execution_count": 0,
      "outputs": [
        {
          "output_type": "stream",
          "text": [
            "hey\n",
            "ho\n",
            "let's go\n"
          ],
          "name": "stdout"
        }
      ]
    },
    {
      "cell_type": "markdown",
      "metadata": {
        "id": "vg4lfsgPG8Rj",
        "colab_type": "text"
      },
      "source": [
        "## Ex1: The typical programming exercise of 3s and 5s\n",
        "Now is your time to shine. In this exercise you will to use loop and conditionals. It is asked:\n",
        "\n",
        "Create a loop that goes from 1 to 15, both inclusive.\n",
        "* If the counter is divisible by 3 print \"3 - LOL\"\n",
        "* If the counter is divisible by 5 print \"5 - HAH\"\n",
        "* if the counter is divisible by 3 and 5, print \"haha salu2\""
      ]
    },
    {
      "cell_type": "code",
      "metadata": {
        "id": "TfJhUIWQGpat",
        "colab_type": "code",
        "colab": {}
      },
      "source": [
        "# put the code here down below\n"
      ],
      "execution_count": 0,
      "outputs": []
    },
    {
      "cell_type": "markdown",
      "metadata": {
        "id": "ahQkreiRHPSH",
        "colab_type": "text"
      },
      "source": [
        "## Variables II: mutable variables\n",
        "Now here is where all the Python fun and mindblowing comes into play. There is 3 types of mutable variables: lists, dictionaries and sets."
      ]
    },
    {
      "cell_type": "markdown",
      "metadata": {
        "id": "tOELIxYmHft5",
        "colab_type": "text"
      },
      "source": [
        "### Lists"
      ]
    },
    {
      "cell_type": "code",
      "metadata": {
        "id": "jDw0PBzsHTeS",
        "colab_type": "code",
        "outputId": "8ca0553b-51dd-4289-d92c-8915ff61f892",
        "colab": {
          "base_uri": "https://localhost:8080/",
          "height": 68
        }
      },
      "source": [
        "list_numbers = [12, 33, 44, 55]\n",
        "\n",
        "# lists of lists are also possible! You can create matrix for example\n",
        "jacobean_matrix = [\n",
        "    [3, 4, 5],\n",
        "    [1, 0, 4],\n",
        "    [0, 3, 1]\n",
        "]\n",
        "\n",
        "# to add things to lists (remember, mutable means mutable, like it can change)\n",
        "list_numbers.append(66)\n",
        "print(list_numbers)  # prints [12, 33, 44, 55, 66] now\n",
        "\n",
        "# to retrieve an item\n",
        "print(list_numbers[3])  # prints '55'\n",
        "\n",
        "# you can also make slices of the list\n",
        "print(list_numbers[1:3])  # prints [33, 44]. First index inclusive, last exclusive!"
      ],
      "execution_count": 0,
      "outputs": [
        {
          "output_type": "stream",
          "text": [
            "[12, 33, 44, 55, 66]\n",
            "55\n",
            "[33, 44]\n"
          ],
          "name": "stdout"
        }
      ]
    },
    {
      "cell_type": "markdown",
      "metadata": {
        "id": "ywH3SlKYHwci",
        "colab_type": "text"
      },
      "source": [
        "### Dictionaries\n",
        "> I know I am not supposed to give my opinion BUT, probably my favourite variable type - Joan Heredia, 2019\n",
        "\n",
        "You can store nearly anything you want inside and retrieve it later with a key (instead of an index like the list type). It's like a table with two columns: the Key and the Value. If you want to retrieve the Value you have to ask for it with the Key."
      ]
    },
    {
      "cell_type": "code",
      "metadata": {
        "id": "nEiHXjsGHkGr",
        "colab_type": "code",
        "outputId": "e018edb0-353e-4699-9532-c42079d4eb5a",
        "colab": {
          "base_uri": "https://localhost:8080/",
          "height": 119
        }
      },
      "source": [
        "# dictionaries are like an UNORDERED list of key:value pairs\n",
        "d_got_is_alive = {\"John Snow\": True, \"Tyrion Lannister\": True, \"Ned Stark\": True}\n",
        "\n",
        "# to retrieve an item, like lists but by the KEY\n",
        "print(d_got_is_alive[\"Ned Stark\"])\n",
        "\n",
        "# example with for loop\n",
        "# the method .keys() of a dictionary returns a list of the keys in the dictionary. WATXAUT! It might not be ordered!\n",
        "for key in d_got_is_alive.keys():\n",
        "    s_character = key\n",
        "    is_alive = d_got_is_alive[key]\n",
        "    print(f\"Is {s_character} alive? {is_alive}\")  # F string, it lets you put a variable inside of an string easily (notice the little f before the colon)\n",
        "\n",
        "# to add elements ->\n",
        "d_got_is_alive[\"Tommy Lannister\"] = False  # RIP Tommy Lannister (?)\n",
        "\n",
        "# if the key already exists, you OVERWRITE the value. Also, the type of the keys and the values might change\n",
        "d_got_is_alive[\"Tyrion Lannister\"] = \"Maybe, who knows. I am waiting for the books\"\n",
        "\n",
        "print(f\"This is how the dictionary looks like:\\n {d_got_is_alive}\")"
      ],
      "execution_count": 0,
      "outputs": [
        {
          "output_type": "stream",
          "text": [
            "True\n",
            "Is John Snow alive? True\n",
            "Is Tyrion Lannister alive? True\n",
            "Is Ned Stark alive? True\n",
            "This is how the dictionary looks like:\n",
            " {'John Snow': True, 'Tyrion Lannister': 'Maybe, who knows. I am waiting for the books', 'Ned Stark': True, 'Tommy Lannister': False}\n"
          ],
          "name": "stdout"
        }
      ]
    },
    {
      "cell_type": "markdown",
      "metadata": {
        "id": "wRan5xbOJDhk",
        "colab_type": "text"
      },
      "source": [
        "### Sets\n",
        "It's like the bullied variable of Python. Nobody uses sets (I am joking, but I use them rarely). Their use-case is normaly when you want unique lists of items and subsets, intersections and unions of this sets."
      ]
    },
    {
      "cell_type": "code",
      "metadata": {
        "id": "nC_N_fklIyU-",
        "colab_type": "code",
        "outputId": "e93f4378-bd6f-4a94-b327-6effdeb5b6ac",
        "colab": {
          "base_uri": "https://localhost:8080/",
          "height": 51
        }
      },
      "source": [
        "# Sets are unordered lists of UNIQUE ITEMS, like dictionaries but without values, only keys.\n",
        "set_numbers = {5, 3, 6, 7, 7, 7, 7}\n",
        "print(set_numbers)  # will print {3, 5, 6, 7}\n",
        "\n",
        "# they are useful when you need to know which items are in one set and not in the other\n",
        "set_numbers_2 = {1, 2, 3, 4, 5}\n",
        "\n",
        "print(set_numbers_2.intersection(set_numbers))  # the intersection will print another set = {3, 5}"
      ],
      "execution_count": 0,
      "outputs": [
        {
          "output_type": "stream",
          "text": [
            "{3, 5, 6, 7}\n",
            "{3, 5}\n"
          ],
          "name": "stdout"
        }
      ]
    },
    {
      "cell_type": "markdown",
      "metadata": {
        "id": "4q3BbfmLJke4",
        "colab_type": "text"
      },
      "source": [
        "## The MAGIC behind mutable variables\n",
        "As mutable types, they are pointing to the same memory location (they are pointers, like C), so if you have the great idea of doing list_1 = list_2, you won't be copying the list, you will be actually copying the pointer location, so if you change one, the other also changes. Dentro video! ->\n"
      ]
    },
    {
      "cell_type": "code",
      "metadata": {
        "id": "OHwc0PKfJdE7",
        "colab_type": "code",
        "outputId": "1ef58563-6fa0-4bd3-ca09-a9cbe6446d4a",
        "colab": {
          "base_uri": "https://localhost:8080/",
          "height": 68
        }
      },
      "source": [
        "whoops_list = [\"I\", \"am\", \"really good\", \"at Python\"]\n",
        "i_am_really_bad_at_python_list = whoops_list         # <- This is REALLY BAD, normally you would not want this\n",
        "i_am_really_bad_at_python_list.append(\"OR AM I????\")\n",
        "\n",
        "print(whoops_list)                      # returns '[\"I\", \"am\", \"really good\", \"at Python\", \"OR AM I????\"]'\n",
        "print(i_am_really_bad_at_python_list)   # returns '[\"I\", \"am\", \"really good\", \"at Python\", \"OR AM I????\"]'\n",
        "print(f\"Both lists are the same list? '{whoops_list is i_am_really_bad_at_python_list}'\")  # Spoiler, it's True"
      ],
      "execution_count": 0,
      "outputs": [
        {
          "output_type": "stream",
          "text": [
            "['I', 'am', 'really good', 'at Python', 'OR AM I????']\n",
            "['I', 'am', 'really good', 'at Python', 'OR AM I????']\n",
            "Both lists are the same list? 'True'\n"
          ],
          "name": "stdout"
        }
      ]
    },
    {
      "cell_type": "markdown",
      "metadata": {
        "id": "r-WqiW6RKX0C",
        "colab_type": "text"
      },
      "source": [
        "**WAIT**, so if I want to copy a list (or a dictionary or a dataframe or any object), how do I do it?"
      ]
    },
    {
      "cell_type": "code",
      "metadata": {
        "id": "hYQUs4tiJ-9l",
        "colab_type": "code",
        "outputId": "36e56b99-b807-4a1e-f77b-7227c95ba88c",
        "colab": {
          "base_uri": "https://localhost:8080/",
          "height": 51
        }
      },
      "source": [
        "whoops_list = [\"I\", \"am\", \"really good\", \"at Python\"]\n",
        "\n",
        "# --> METHOD 1: The Pythonic way\n",
        "import copy\n",
        "list_copy = copy.deepcopy(whoops_list)\n",
        "print(f\"Both lists are the same list? '{list_copy is whoops_list}'\")  # Spoiler, it's False\n",
        "\n",
        "# --> METHOD 2: The 'I don't have time for this!' guy - don't be this guy but it works\n",
        "list_copy_2 = whoops_list[:]\n",
        "print(f\"Both lists are the same list? '{list_copy_2 is whoops_list}'\")  # Spoiler, it's False\n"
      ],
      "execution_count": 0,
      "outputs": [
        {
          "output_type": "stream",
          "text": [
            "Both lists are the same list? 'False'\n",
            "Both lists are the same list? 'False'\n"
          ],
          "name": "stdout"
        }
      ]
    },
    {
      "cell_type": "markdown",
      "metadata": {
        "id": "1PfPJFMHKx5H",
        "colab_type": "text"
      },
      "source": [
        "This happens with every MUTABLE variable. So you have to know exactly what you are doing when doing this_mutable_var = this_other_mutable_var. Don't say I didn't warn you. I am 99% sure this will happen at some point in your code, but humans do learn by smashing their head into the problems, it's the way we are coded."
      ]
    },
    {
      "cell_type": "markdown",
      "metadata": {
        "id": "H2gZ38WZK4cE",
        "colab_type": "text"
      },
      "source": [
        "## Ex2: Lorem Ipsum\n",
        "Hey you should know about lists and dictionaries already! Given the 3 first paragraphs of Lorem Ipsum as string s_lorem_ipsum:\n",
        "\n",
        "1. Find the 3 words that appear the most in s_lorem_ipsum using for/while loops\n",
        "2. Do the same with [this](https://docs.python.org/2/library/collections.html#collections.Counter)\n",
        "**PRO TIP:** if you do lorem_ipsum.split(\" \"), you will get a list of words, try it out ;)"
      ]
    },
    {
      "cell_type": "code",
      "metadata": {
        "id": "rJMW-iuVKu_h",
        "colab_type": "code",
        "colab": {}
      },
      "source": [
        "lorem_ipsum = \"\"\"\n",
        "Lorem ipsum dolor sit amet, consectetur adipiscing elit. Vivamus pretium \n",
        "sollicitudin leo, ac interdum arcu venenatis gravida. Cras dui ante, interdum\n",
        "et luctus nec, fermentum non turpis. Proin mattis metus a lorem ornare lacinia.\n",
        "Aenean vulputate nunc ex, ac aliquet dui finibus at. Donec cursus velit orci,\n",
        "eget cursus justo mollis sit amet. Suspendisse sem purus, sollicitudin at lorem\n",
        "faucibus, rutrum placerat tellus. Nam malesuada, diam non placerat egestas, leo risus \n",
        "hendrerit odio, ornare aliquam purus nisi vel lectus.\n",
        "\n",
        "Nam auctor massa consectetur nibh imperdiet lacinia. Donec pellentesque felis et\n",
        "nibh condimentum auctor. Nunc consequat, risus et commodo posuere, neque sapien\n",
        "pulvinar dolor, mollis aliquam magna metus ut elit. Donec non risus quam. Fusce\n",
        "id ipsum facilisis metus lobortis ullamcorper. Phasellus risus justo, ornare sit\n",
        "amet pharetra ut, pulvinar et erat. Curabitur finibus nisl vel molestie feugiat.\n",
        "Duis pharetra ante a iaculis tristique. Sed non congue est, non porttitor quam.\n",
        "Sed nec tellus nec erat mattis bibendum. Aliquam dictum ipsum eu mollis \n",
        "condimentum. Vivamus id interdum libero.\n",
        "\"\"\"\n"
      ],
      "execution_count": 0,
      "outputs": []
    }
  ]
}