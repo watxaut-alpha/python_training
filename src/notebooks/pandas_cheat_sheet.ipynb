{
  "nbformat": 4,
  "nbformat_minor": 0,
  "metadata": {
    "colab": {
      "name": "pandas_cheat_sheet.ipynb",
      "provenance": [],
      "collapsed_sections": [],
      "toc_visible": true
    },
    "kernelspec": {
      "name": "python3",
      "display_name": "Python 3"
    }
  },
  "cells": [
    {
      "cell_type": "markdown",
      "metadata": {
        "id": "ZAkEfTdoM8yw",
        "colab_type": "text"
      },
      "source": [
        "# Pandas Cheat Sheet\n",
        "Complete documentation [here](https://pandas.pydata.org/pandas-docs/version/0.23/api.html)"
      ]
    },
    {
      "cell_type": "markdown",
      "metadata": {
        "id": "LQ4Wm7RdNFau",
        "colab_type": "text"
      },
      "source": [
        "## Create a DataFrame from a .csv File"
      ]
    },
    {
      "cell_type": "code",
      "metadata": {
        "id": "l2S29nzkM71-",
        "colab_type": "code",
        "colab": {}
      },
      "source": [
        "### this will create a convenience csv to test the methods. This is not necessary ###\n",
        "from random import randint\n",
        "csv_text = \"first_col,second_col,third_col\\n\"\n",
        "for i in range(1000):\n",
        "    csv_text += f\"{randint(1, 10)},{randint(2, 5)},{randint(4, 17)}\\n\"\n",
        "f = open(\"test.csv\", \"w\")\n",
        "f.write(csv_text)\n",
        "f.close()\n",
        "### End of convenience code ###"
      ],
      "execution_count": 0,
      "outputs": []
    },
    {
      "cell_type": "code",
      "metadata": {
        "id": "QvEXOf0ZOj3i",
        "colab_type": "code",
        "colab": {}
      },
      "source": [
        "# imports at the top of the file always\n",
        "import pandas as pd\n",
        "import numpy as np"
      ],
      "execution_count": 0,
      "outputs": []
    },
    {
      "cell_type": "code",
      "metadata": {
        "id": "tDs7zuHQOVpt",
        "colab_type": "code",
        "colab": {}
      },
      "source": [
        "csv_path = \"test.csv\"   # the path to your csv\n",
        "sep = \",\"               # the delimiter between columns in your csv, normally ',' or ';'\n",
        "\n",
        "# load csv into Pandas Dataframe\n",
        "df = pd.read_csv(csv_path, sep=sep)"
      ],
      "execution_count": 0,
      "outputs": []
    },
    {
      "cell_type": "markdown",
      "metadata": {
        "id": "PxlQVIrDPUVq",
        "colab_type": "text"
      },
      "source": [
        "## Visualize contents"
      ]
    },
    {
      "cell_type": "code",
      "metadata": {
        "id": "8Sdt6VTpPtB4",
        "colab_type": "code",
        "colab": {
          "base_uri": "https://localhost:8080/",
          "height": 204
        },
        "outputId": "9c7117a4-ff3d-4ada-9ae2-6ea63924da64"
      },
      "source": [
        "df.head()  # prints top 5 rows"
      ],
      "execution_count": 5,
      "outputs": [
        {
          "output_type": "execute_result",
          "data": {
            "text/html": [
              "<div>\n",
              "<style scoped>\n",
              "    .dataframe tbody tr th:only-of-type {\n",
              "        vertical-align: middle;\n",
              "    }\n",
              "\n",
              "    .dataframe tbody tr th {\n",
              "        vertical-align: top;\n",
              "    }\n",
              "\n",
              "    .dataframe thead th {\n",
              "        text-align: right;\n",
              "    }\n",
              "</style>\n",
              "<table border=\"1\" class=\"dataframe\">\n",
              "  <thead>\n",
              "    <tr style=\"text-align: right;\">\n",
              "      <th></th>\n",
              "      <th>first_col</th>\n",
              "      <th>second_col</th>\n",
              "      <th>third_col</th>\n",
              "    </tr>\n",
              "  </thead>\n",
              "  <tbody>\n",
              "    <tr>\n",
              "      <th>0</th>\n",
              "      <td>5</td>\n",
              "      <td>3</td>\n",
              "      <td>10</td>\n",
              "    </tr>\n",
              "    <tr>\n",
              "      <th>1</th>\n",
              "      <td>10</td>\n",
              "      <td>4</td>\n",
              "      <td>4</td>\n",
              "    </tr>\n",
              "    <tr>\n",
              "      <th>2</th>\n",
              "      <td>7</td>\n",
              "      <td>4</td>\n",
              "      <td>10</td>\n",
              "    </tr>\n",
              "    <tr>\n",
              "      <th>3</th>\n",
              "      <td>1</td>\n",
              "      <td>2</td>\n",
              "      <td>16</td>\n",
              "    </tr>\n",
              "    <tr>\n",
              "      <th>4</th>\n",
              "      <td>2</td>\n",
              "      <td>3</td>\n",
              "      <td>5</td>\n",
              "    </tr>\n",
              "  </tbody>\n",
              "</table>\n",
              "</div>"
            ],
            "text/plain": [
              "   first_col  second_col  third_col\n",
              "0          5           3         10\n",
              "1         10           4          4\n",
              "2          7           4         10\n",
              "3          1           2         16\n",
              "4          2           3          5"
            ]
          },
          "metadata": {
            "tags": []
          },
          "execution_count": 5
        }
      ]
    },
    {
      "cell_type": "code",
      "metadata": {
        "id": "RxsFKMphPz0I",
        "colab_type": "code",
        "colab": {
          "base_uri": "https://localhost:8080/",
          "height": 204
        },
        "outputId": "537983f7-1bc2-45b8-cb8f-eb50ce10ecc2"
      },
      "source": [
        "df.tail()  # prints bottom 5 rows"
      ],
      "execution_count": 6,
      "outputs": [
        {
          "output_type": "execute_result",
          "data": {
            "text/html": [
              "<div>\n",
              "<style scoped>\n",
              "    .dataframe tbody tr th:only-of-type {\n",
              "        vertical-align: middle;\n",
              "    }\n",
              "\n",
              "    .dataframe tbody tr th {\n",
              "        vertical-align: top;\n",
              "    }\n",
              "\n",
              "    .dataframe thead th {\n",
              "        text-align: right;\n",
              "    }\n",
              "</style>\n",
              "<table border=\"1\" class=\"dataframe\">\n",
              "  <thead>\n",
              "    <tr style=\"text-align: right;\">\n",
              "      <th></th>\n",
              "      <th>first_col</th>\n",
              "      <th>second_col</th>\n",
              "      <th>third_col</th>\n",
              "    </tr>\n",
              "  </thead>\n",
              "  <tbody>\n",
              "    <tr>\n",
              "      <th>995</th>\n",
              "      <td>1</td>\n",
              "      <td>5</td>\n",
              "      <td>16</td>\n",
              "    </tr>\n",
              "    <tr>\n",
              "      <th>996</th>\n",
              "      <td>5</td>\n",
              "      <td>5</td>\n",
              "      <td>4</td>\n",
              "    </tr>\n",
              "    <tr>\n",
              "      <th>997</th>\n",
              "      <td>4</td>\n",
              "      <td>5</td>\n",
              "      <td>17</td>\n",
              "    </tr>\n",
              "    <tr>\n",
              "      <th>998</th>\n",
              "      <td>7</td>\n",
              "      <td>5</td>\n",
              "      <td>7</td>\n",
              "    </tr>\n",
              "    <tr>\n",
              "      <th>999</th>\n",
              "      <td>10</td>\n",
              "      <td>2</td>\n",
              "      <td>11</td>\n",
              "    </tr>\n",
              "  </tbody>\n",
              "</table>\n",
              "</div>"
            ],
            "text/plain": [
              "     first_col  second_col  third_col\n",
              "995          1           5         16\n",
              "996          5           5          4\n",
              "997          4           5         17\n",
              "998          7           5          7\n",
              "999         10           2         11"
            ]
          },
          "metadata": {
            "tags": []
          },
          "execution_count": 6
        }
      ]
    },
    {
      "cell_type": "code",
      "metadata": {
        "id": "wIgHxIeqP3mM",
        "colab_type": "code",
        "colab": {
          "base_uri": "https://localhost:8080/",
          "height": 297
        },
        "outputId": "ab1778fb-451c-4681-80af-4df1561cad06"
      },
      "source": [
        "df.describe()  # computes mean, max, min, count and percentiles for each column"
      ],
      "execution_count": 8,
      "outputs": [
        {
          "output_type": "execute_result",
          "data": {
            "text/html": [
              "<div>\n",
              "<style scoped>\n",
              "    .dataframe tbody tr th:only-of-type {\n",
              "        vertical-align: middle;\n",
              "    }\n",
              "\n",
              "    .dataframe tbody tr th {\n",
              "        vertical-align: top;\n",
              "    }\n",
              "\n",
              "    .dataframe thead th {\n",
              "        text-align: right;\n",
              "    }\n",
              "</style>\n",
              "<table border=\"1\" class=\"dataframe\">\n",
              "  <thead>\n",
              "    <tr style=\"text-align: right;\">\n",
              "      <th></th>\n",
              "      <th>first_col</th>\n",
              "      <th>second_col</th>\n",
              "      <th>third_col</th>\n",
              "    </tr>\n",
              "  </thead>\n",
              "  <tbody>\n",
              "    <tr>\n",
              "      <th>count</th>\n",
              "      <td>1000.000000</td>\n",
              "      <td>1000.000000</td>\n",
              "      <td>1000.000000</td>\n",
              "    </tr>\n",
              "    <tr>\n",
              "      <th>mean</th>\n",
              "      <td>5.465000</td>\n",
              "      <td>3.438000</td>\n",
              "      <td>10.652000</td>\n",
              "    </tr>\n",
              "    <tr>\n",
              "      <th>std</th>\n",
              "      <td>2.954235</td>\n",
              "      <td>1.135538</td>\n",
              "      <td>4.043172</td>\n",
              "    </tr>\n",
              "    <tr>\n",
              "      <th>min</th>\n",
              "      <td>1.000000</td>\n",
              "      <td>2.000000</td>\n",
              "      <td>4.000000</td>\n",
              "    </tr>\n",
              "    <tr>\n",
              "      <th>25%</th>\n",
              "      <td>3.000000</td>\n",
              "      <td>2.000000</td>\n",
              "      <td>7.000000</td>\n",
              "    </tr>\n",
              "    <tr>\n",
              "      <th>50%</th>\n",
              "      <td>5.000000</td>\n",
              "      <td>3.000000</td>\n",
              "      <td>11.000000</td>\n",
              "    </tr>\n",
              "    <tr>\n",
              "      <th>75%</th>\n",
              "      <td>8.000000</td>\n",
              "      <td>4.000000</td>\n",
              "      <td>14.000000</td>\n",
              "    </tr>\n",
              "    <tr>\n",
              "      <th>max</th>\n",
              "      <td>10.000000</td>\n",
              "      <td>5.000000</td>\n",
              "      <td>17.000000</td>\n",
              "    </tr>\n",
              "  </tbody>\n",
              "</table>\n",
              "</div>"
            ],
            "text/plain": [
              "         first_col   second_col    third_col\n",
              "count  1000.000000  1000.000000  1000.000000\n",
              "mean      5.465000     3.438000    10.652000\n",
              "std       2.954235     1.135538     4.043172\n",
              "min       1.000000     2.000000     4.000000\n",
              "25%       3.000000     2.000000     7.000000\n",
              "50%       5.000000     3.000000    11.000000\n",
              "75%       8.000000     4.000000    14.000000\n",
              "max      10.000000     5.000000    17.000000"
            ]
          },
          "metadata": {
            "tags": []
          },
          "execution_count": 8
        }
      ]
    },
    {
      "cell_type": "markdown",
      "metadata": {
        "id": "ZDR5ymKIQMpK",
        "colab_type": "text"
      },
      "source": [
        "## Access data"
      ]
    },
    {
      "cell_type": "markdown",
      "metadata": {
        "id": "tKZdyo4BS89p",
        "colab_type": "text"
      },
      "source": [
        "### One Column"
      ]
    },
    {
      "cell_type": "code",
      "metadata": {
        "id": "q8rSWqwHP-2T",
        "colab_type": "code",
        "colab": {
          "base_uri": "https://localhost:8080/",
          "height": 51
        },
        "outputId": "ebd77385-ab37-4b2c-9506-7c7e97c98095"
      },
      "source": [
        "first_column = df[\"first_col\"]  # gets the first column\n",
        "\n",
        "# a column is not a DataFrame type, is a Series type. A DataFrame is made of one or more Series\n",
        "print(\"Type of first column: \", type(first_column))\n",
        "print(\"Type of DataFrame: \", type(df))"
      ],
      "execution_count": 11,
      "outputs": [
        {
          "output_type": "stream",
          "text": [
            "Type of first column:  <class 'pandas.core.series.Series'>\n",
            "Type of DataFrame:  <class 'pandas.core.frame.DataFrame'>\n"
          ],
          "name": "stdout"
        }
      ]
    },
    {
      "cell_type": "code",
      "metadata": {
        "id": "zP0zO0P4SJ52",
        "colab_type": "code",
        "colab": {
          "base_uri": "https://localhost:8080/",
          "height": 119
        },
        "outputId": "99203ed1-798f-4da2-aa03-53f67fa87bef"
      },
      "source": [
        "first_column.head()  # there are methods that are shared between DataFrames and Series, like head()"
      ],
      "execution_count": 12,
      "outputs": [
        {
          "output_type": "execute_result",
          "data": {
            "text/plain": [
              "0     5\n",
              "1    10\n",
              "2     7\n",
              "3     1\n",
              "4     2\n",
              "Name: first_col, dtype: int64"
            ]
          },
          "metadata": {
            "tags": []
          },
          "execution_count": 12
        }
      ]
    },
    {
      "cell_type": "markdown",
      "metadata": {
        "id": "7f4CIBVsT79F",
        "colab_type": "text"
      },
      "source": [
        "### More than one column"
      ]
    },
    {
      "cell_type": "code",
      "metadata": {
        "id": "9W6rSYKaTBY_",
        "colab_type": "code",
        "colab": {
          "base_uri": "https://localhost:8080/",
          "height": 204
        },
        "outputId": "0d95da4b-5bfa-41c2-9ee5-c8b0ad7a6858"
      },
      "source": [
        "# To access more than one column you have to put double square brackets [[]]\n",
        "df[[\"first_col\", \"second_col\"]].head()"
      ],
      "execution_count": 13,
      "outputs": [
        {
          "output_type": "execute_result",
          "data": {
            "text/html": [
              "<div>\n",
              "<style scoped>\n",
              "    .dataframe tbody tr th:only-of-type {\n",
              "        vertical-align: middle;\n",
              "    }\n",
              "\n",
              "    .dataframe tbody tr th {\n",
              "        vertical-align: top;\n",
              "    }\n",
              "\n",
              "    .dataframe thead th {\n",
              "        text-align: right;\n",
              "    }\n",
              "</style>\n",
              "<table border=\"1\" class=\"dataframe\">\n",
              "  <thead>\n",
              "    <tr style=\"text-align: right;\">\n",
              "      <th></th>\n",
              "      <th>first_col</th>\n",
              "      <th>second_col</th>\n",
              "    </tr>\n",
              "  </thead>\n",
              "  <tbody>\n",
              "    <tr>\n",
              "      <th>0</th>\n",
              "      <td>5</td>\n",
              "      <td>3</td>\n",
              "    </tr>\n",
              "    <tr>\n",
              "      <th>1</th>\n",
              "      <td>10</td>\n",
              "      <td>4</td>\n",
              "    </tr>\n",
              "    <tr>\n",
              "      <th>2</th>\n",
              "      <td>7</td>\n",
              "      <td>4</td>\n",
              "    </tr>\n",
              "    <tr>\n",
              "      <th>3</th>\n",
              "      <td>1</td>\n",
              "      <td>2</td>\n",
              "    </tr>\n",
              "    <tr>\n",
              "      <th>4</th>\n",
              "      <td>2</td>\n",
              "      <td>3</td>\n",
              "    </tr>\n",
              "  </tbody>\n",
              "</table>\n",
              "</div>"
            ],
            "text/plain": [
              "   first_col  second_col\n",
              "0          5           3\n",
              "1         10           4\n",
              "2          7           4\n",
              "3          1           2\n",
              "4          2           3"
            ]
          },
          "metadata": {
            "tags": []
          },
          "execution_count": 13
        }
      ]
    },
    {
      "cell_type": "markdown",
      "metadata": {
        "id": "3ihVjsZMTZDk",
        "colab_type": "text"
      },
      "source": [
        "### Rows\n",
        "If the DataFrame has an Index, you can use .loc[index] to get the row. Won't work with this csv.\n",
        "\n",
        "But you can also access data through row number using .iloc[row]"
      ]
    },
    {
      "cell_type": "code",
      "metadata": {
        "id": "9iaWgsznSVQw",
        "colab_type": "code",
        "colab": {
          "base_uri": "https://localhost:8080/",
          "height": 85
        },
        "outputId": "c5669334-1434-446d-e48b-6221184e4a81"
      },
      "source": [
        "print(df.iloc[3])"
      ],
      "execution_count": 14,
      "outputs": [
        {
          "output_type": "stream",
          "text": [
            "first_col      1\n",
            "second_col     2\n",
            "third_col     16\n",
            "Name: 3, dtype: int64\n"
          ],
          "name": "stdout"
        }
      ]
    },
    {
      "cell_type": "code",
      "metadata": {
        "id": "NO_FFTADUHRQ",
        "colab_type": "code",
        "colab": {}
      },
      "source": [
        "# you can also loop through all rows of the df with this, although there are\n",
        "# other better performance-wise methods\n",
        "for i in range(len(df)):\n",
        "    row = df.iloc[i]\n",
        "    # do something with row"
      ],
      "execution_count": 0,
      "outputs": []
    },
    {
      "cell_type": "markdown",
      "metadata": {
        "id": "50MOZw0vUobE",
        "colab_type": "text"
      },
      "source": [
        "## Copy a DataFrame"
      ]
    },
    {
      "cell_type": "code",
      "metadata": {
        "id": "3sgE9JIkUqx1",
        "colab_type": "code",
        "colab": {}
      },
      "source": [
        "import copy\n",
        "# will create an exact copy of our dataframe. If we modify either one of these, the other one will not get affected\n",
        "df_copy = copy.deepcopy(df)"
      ],
      "execution_count": 0,
      "outputs": []
    },
    {
      "cell_type": "markdown",
      "metadata": {
        "id": "LrghPu4MU9DR",
        "colab_type": "text"
      },
      "source": [
        "## Create a column"
      ]
    },
    {
      "cell_type": "code",
      "metadata": {
        "id": "E-nc8j2wVBp8",
        "colab_type": "code",
        "colab": {
          "base_uri": "https://localhost:8080/",
          "height": 204
        },
        "outputId": "189d8aed-90b1-46f0-db7f-ccc958f00a5f"
      },
      "source": [
        "# create\n",
        "df_copy[\"new_col\"] = df_copy[\"first_col\"] + df_copy[\"second_col\"]  # creates a with the sum of the numbers for each row in cols 1 and 2\n",
        "df_copy[[\"first_col\", \"second_col\", \"new_col\"]].head()"
      ],
      "execution_count": 21,
      "outputs": [
        {
          "output_type": "execute_result",
          "data": {
            "text/html": [
              "<div>\n",
              "<style scoped>\n",
              "    .dataframe tbody tr th:only-of-type {\n",
              "        vertical-align: middle;\n",
              "    }\n",
              "\n",
              "    .dataframe tbody tr th {\n",
              "        vertical-align: top;\n",
              "    }\n",
              "\n",
              "    .dataframe thead th {\n",
              "        text-align: right;\n",
              "    }\n",
              "</style>\n",
              "<table border=\"1\" class=\"dataframe\">\n",
              "  <thead>\n",
              "    <tr style=\"text-align: right;\">\n",
              "      <th></th>\n",
              "      <th>first_col</th>\n",
              "      <th>second_col</th>\n",
              "      <th>new_col</th>\n",
              "    </tr>\n",
              "  </thead>\n",
              "  <tbody>\n",
              "    <tr>\n",
              "      <th>0</th>\n",
              "      <td>5</td>\n",
              "      <td>3</td>\n",
              "      <td>8</td>\n",
              "    </tr>\n",
              "    <tr>\n",
              "      <th>1</th>\n",
              "      <td>10</td>\n",
              "      <td>4</td>\n",
              "      <td>14</td>\n",
              "    </tr>\n",
              "    <tr>\n",
              "      <th>2</th>\n",
              "      <td>7</td>\n",
              "      <td>4</td>\n",
              "      <td>11</td>\n",
              "    </tr>\n",
              "    <tr>\n",
              "      <th>3</th>\n",
              "      <td>1</td>\n",
              "      <td>2</td>\n",
              "      <td>3</td>\n",
              "    </tr>\n",
              "    <tr>\n",
              "      <th>4</th>\n",
              "      <td>2</td>\n",
              "      <td>3</td>\n",
              "      <td>5</td>\n",
              "    </tr>\n",
              "  </tbody>\n",
              "</table>\n",
              "</div>"
            ],
            "text/plain": [
              "   first_col  second_col  new_col\n",
              "0          5           3        8\n",
              "1         10           4       14\n",
              "2          7           4       11\n",
              "3          1           2        3\n",
              "4          2           3        5"
            ]
          },
          "metadata": {
            "tags": []
          },
          "execution_count": 21
        }
      ]
    },
    {
      "cell_type": "markdown",
      "metadata": {
        "id": "Ot1SjADFVoHC",
        "colab_type": "text"
      },
      "source": [
        "## Create/modify a column using apply"
      ]
    },
    {
      "cell_type": "markdown",
      "metadata": {
        "id": "gd2rQXgeV0X2",
        "colab_type": "text"
      },
      "source": [
        "### Using lambda"
      ]
    },
    {
      "cell_type": "code",
      "metadata": {
        "id": "d_coTIr_Vnzy",
        "colab_type": "code",
        "colab": {
          "base_uri": "https://localhost:8080/",
          "height": 119
        },
        "outputId": "507d9acf-06fe-4dc5-a94e-938698718bd1"
      },
      "source": [
        "# we want to divide first_col/second_col\n",
        "# pass axis=1 if you apply to a dataframe and want the rows, instead of just the index\n",
        "df_copy[\"div_col\"] = df_copy.apply(lambda row: row[\"first_col\"]/row[\"second_col\"], axis=1)\n",
        "df_copy[\"div_col\"].head()"
      ],
      "execution_count": 23,
      "outputs": [
        {
          "output_type": "execute_result",
          "data": {
            "text/plain": [
              "0    1.666667\n",
              "1    2.500000\n",
              "2    1.750000\n",
              "3    0.500000\n",
              "4    0.666667\n",
              "Name: div_col, dtype: float64"
            ]
          },
          "metadata": {
            "tags": []
          },
          "execution_count": 23
        }
      ]
    },
    {
      "cell_type": "markdown",
      "metadata": {
        "id": "AyLuklbdWt5x",
        "colab_type": "text"
      },
      "source": [
        "### Using a separate function"
      ]
    },
    {
      "cell_type": "code",
      "metadata": {
        "id": "1dpXXuHgWxq9",
        "colab_type": "code",
        "colab": {}
      },
      "source": [
        "def divide_cols(row):\n",
        "    if row[\"second_col\"] == 0:  # checking for infinite result\n",
        "        return np.NaN           # returns NaN\n",
        "    else:\n",
        "        div = row[\"first_col\"] / row[\"second_col\"]\n",
        "        return div"
      ],
      "execution_count": 0,
      "outputs": []
    },
    {
      "cell_type": "code",
      "metadata": {
        "id": "3WeAqtzdXYqZ",
        "colab_type": "code",
        "colab": {
          "base_uri": "https://localhost:8080/",
          "height": 119
        },
        "outputId": "c2d8a2ca-2de1-4640-ad5d-e3921a07ae02"
      },
      "source": [
        "df_copy[\"div_col\"] = df_copy.apply(divide_cols, axis=1)\n",
        "df_copy[\"div_col\"].head()"
      ],
      "execution_count": 31,
      "outputs": [
        {
          "output_type": "execute_result",
          "data": {
            "text/plain": [
              "0    1.666667\n",
              "1    2.500000\n",
              "2    1.750000\n",
              "3    0.500000\n",
              "4    0.666667\n",
              "Name: div_col, dtype: float64"
            ]
          },
          "metadata": {
            "tags": []
          },
          "execution_count": 31
        }
      ]
    },
    {
      "cell_type": "code",
      "metadata": {
        "id": "TT2oikycXrx2",
        "colab_type": "code",
        "colab": {}
      },
      "source": [
        ""
      ],
      "execution_count": 0,
      "outputs": []
    }
  ]
}